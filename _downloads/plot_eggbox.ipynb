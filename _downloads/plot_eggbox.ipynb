{
  "nbformat": 4,
  "cells": [
    {
      "cell_type": "code",
      "outputs": [],
      "source": [
        "%matplotlib inline"
      ],
      "execution_count": null,
      "metadata": {
        "collapsed": false
      }
    },
    {
      "cell_type": "markdown",
      "source": [
        "\n# Eggbox\n\n\nA likelihood surface with multiple modes of equal height.\n\n"
      ],
      "metadata": {}
    },
    {
      "cell_type": "code",
      "outputs": [],
      "source": [
        "import numpy as np\nimport matplotlib.pyplot as plt\nimport corner\n\nimport nestle\n\n\n# Define the posterior density to be sampled:\ntmax = 5.0 * np.pi\nconstant = np.log(1.0 / tmax**2)\n\ndef loglike(x):\n    t = 2.0 * tmax * x - tmax\n    return (2.0 + np.cos(t[0]/2.0)*np.cos(t[1]/2.0))**5.0\n\ndef prior(x):\n    return x\n\n# plot the surface\nplt.figure(figsize=(8., 8.))\nax = plt.axes(aspect=1)\nxx, yy = np.meshgrid(np.linspace(0., 1., 50),\n                     np.linspace(0., 1., 50))\nZ = loglike(np.array([xx, yy]))\nax.contourf(xx, yy, Z, 12, cmap=plt.cm.Blues_r)\nplt.title(\"True Log likelihood surface\")"
      ],
      "execution_count": null,
      "metadata": {
        "collapsed": false
      }
    },
    {
      "cell_type": "markdown",
      "source": [
        "Run nested sampling in multi-ellipsoid mode and print a summary of results:\n\n"
      ],
      "metadata": {}
    },
    {
      "cell_type": "code",
      "outputs": [],
      "source": [
        "res = nestle.sample(loglike, prior, 2, npoints=200, method='multi',\n                    update_interval=20)\nprint(res.summary())"
      ],
      "execution_count": null,
      "metadata": {
        "collapsed": false
      }
    },
    {
      "cell_type": "markdown",
      "source": [
        "Plot the samples. Note that this represents the *likelihood* rather than\nits log, hence it is much more highly peaked.\n\n"
      ],
      "metadata": {}
    },
    {
      "cell_type": "code",
      "outputs": [],
      "source": [
        "fig = corner.corner(res.samples, weights=res.weights, bins=500,\n                    range=[(0., 1.), (0., 1.)])\nfig.set_size_inches(8., 8.)"
      ],
      "execution_count": null,
      "metadata": {
        "collapsed": false
      }
    }
  ],
  "nbformat_minor": 0,
  "metadata": {
    "kernelspec": {
      "language": "python",
      "name": "python3",
      "display_name": "Python 3"
    },
    "language_info": {
      "name": "python",
      "file_extension": ".py",
      "codemirror_mode": {
        "name": "ipython",
        "version": 3
      },
      "pygments_lexer": "ipython3",
      "version": "3.5.1",
      "nbconvert_exporter": "python",
      "mimetype": "text/x-python"
    }
  }
}